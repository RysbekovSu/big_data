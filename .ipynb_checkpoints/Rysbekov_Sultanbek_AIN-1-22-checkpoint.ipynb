{
 "cells": [
  {
   "cell_type": "markdown",
   "id": "0ce0934a-66aa-4ba4-9eda-7dfdb3e25ae9",
   "metadata": {},
   "source": [
    "# Getting start with Jupiter Python\n",
    "\n",
    "## We have done \n",
    "* Install [Python](https://www.python.org/downloads/) 3.10\n",
    "* Install Jupiter Python in Pycharm"
   ]
  },
  {
   "cell_type": "code",
   "execution_count": 2,
   "id": "0f1ad6cf-8c97-498f-812a-040530d413a9",
   "metadata": {},
   "outputs": [],
   "source": [
    "print?"
   ]
  },
  {
   "cell_type": "code",
   "execution_count": 4,
   "id": "e2f4e63d-b539-48c0-91d2-2bfbc036335b",
   "metadata": {},
   "outputs": [],
   "source": [
    "i =11"
   ]
  },
  {
   "cell_type": "code",
   "execution_count": 5,
   "id": "30e41717-133e-4589-b59b-74c320dd2651",
   "metadata": {},
   "outputs": [
    {
     "name": "stdout",
     "output_type": "stream",
     "text": [
      "11\n"
     ]
    }
   ],
   "source": [
    "print(i)"
   ]
  },
  {
   "cell_type": "code",
   "execution_count": 7,
   "id": "5cb80f85-7ba4-4f26-8252-33e09e51a258",
   "metadata": {},
   "outputs": [
    {
     "name": "stdout",
     "output_type": "stream",
     "text": [
      "<class 'float'>\n"
     ]
    }
   ],
   "source": [
    "a =1.11\n",
    "b = type(a)\n",
    "print(b)"
   ]
  },
  {
   "cell_type": "markdown",
   "id": "3a3aa7e4-477a-43e9-a501-a9ae407b737d",
   "metadata": {},
   "source": [
    "# Create some variables in python"
   ]
  },
  {
   "cell_type": "code",
   "execution_count": 5,
   "id": "0bdd73ab-3b6a-4eca-ad84-ea4e0b6a21fd",
   "metadata": {},
   "outputs": [],
   "source": [
    "f = 3.1"
   ]
  },
  {
   "cell_type": "code",
   "execution_count": 6,
   "id": "d490602d-eb18-4935-a43d-7b2b2620a6f4",
   "metadata": {},
   "outputs": [
    {
     "data": {
      "text/plain": [
       "float"
      ]
     },
     "execution_count": 6,
     "metadata": {},
     "output_type": "execute_result"
    }
   ],
   "source": [
    "type(f)"
   ]
  },
  {
   "cell_type": "code",
   "execution_count": 7,
   "id": "43837910-63d5-4eab-9326-8f32fd65ed78",
   "metadata": {},
   "outputs": [],
   "source": [
    "b = True"
   ]
  },
  {
   "cell_type": "code",
   "execution_count": 8,
   "id": "0e2481bc-0e30-492a-b331-fd866b117f8a",
   "metadata": {},
   "outputs": [],
   "source": [
    "s = \"This is a variable\""
   ]
  },
  {
   "cell_type": "code",
   "execution_count": 9,
   "id": "cda52517-d685-46dc-adef-e402117621b8",
   "metadata": {},
   "outputs": [
    {
     "name": "stdout",
     "output_type": "stream",
     "text": [
      "This is a variabke\n"
     ]
    }
   ],
   "source": [
    "print(s)"
   ]
  },
  {
   "cell_type": "markdown",
   "id": "b0545627-0e03-473b-8d0f-db1e2e39660f",
   "metadata": {},
   "source": [
    "# Advanced Python types"
   ]
  },
  {
   "cell_type": "code",
   "execution_count": 10,
   "id": "746bf7ce-b1d1-4b8b-ae81-1e3ca1fbc29a",
   "metadata": {},
   "outputs": [],
   "source": [
    "l = [1,23,4]"
   ]
  },
  {
   "cell_type": "code",
   "execution_count": 11,
   "id": "9d18ba46-2900-48d3-a3f1-d9123121dcc3",
   "metadata": {},
   "outputs": [
    {
     "name": "stdout",
     "output_type": "stream",
     "text": [
      "[1, 23, 4]\n"
     ]
    }
   ],
   "source": [
    "print(l)"
   ]
  },
  {
   "cell_type": "code",
   "execution_count": 12,
   "id": "28201445-75df-4d9b-92f4-a205afb427b6",
   "metadata": {},
   "outputs": [],
   "source": [
    "d = {'om':1,'bar':2.2, 'fer' :'Charles leclerc'}"
   ]
  },
  {
   "cell_type": "code",
   "execution_count": 13,
   "id": "3f0880a7-788d-42a7-bd54-369c22f0b6ed",
   "metadata": {},
   "outputs": [
    {
     "name": "stdout",
     "output_type": "stream",
     "text": [
      "{'om': 1, 'bar': 2.2, 'fer': 'Charles leclerc'}\n"
     ]
    }
   ],
   "source": [
    "print(d)"
   ]
  },
  {
   "cell_type": "code",
   "execution_count": 14,
   "id": "0bbb2fe0-1d7a-4366-b6b3-654b127f94fb",
   "metadata": {},
   "outputs": [
    {
     "name": "stdout",
     "output_type": "stream",
     "text": [
      "Charles leclerc\n"
     ]
    }
   ],
   "source": [
    "print(d['fer'])"
   ]
  },
  {
   "cell_type": "code",
   "execution_count": 15,
   "id": "00e6af56-7ef4-47e5-9477-b1abfd9528e8",
   "metadata": {},
   "outputs": [],
   "source": [
    "n = None"
   ]
  },
  {
   "cell_type": "code",
   "execution_count": 16,
   "id": "afa1d7b3-f947-46e2-a392-800b13e3b9d5",
   "metadata": {},
   "outputs": [
    {
     "data": {
      "text/plain": [
       "NoneType"
      ]
     },
     "execution_count": 16,
     "metadata": {},
     "output_type": "execute_result"
    }
   ],
   "source": [
    "type(n)"
   ]
  },
  {
   "cell_type": "code",
   "execution_count": 19,
   "id": "e21c8dfe-d64d-426f-a275-c2f3ab229ee4",
   "metadata": {},
   "outputs": [
    {
     "name": "stdout",
     "output_type": "stream",
     "text": [
      "23 in power of 2 is:  529.0\n"
     ]
    }
   ],
   "source": [
    "import math\n",
    "p = math.pow(23, 2)\n",
    "print('23 in power of 2 is: ', p)"
   ]
  },
  {
   "cell_type": "markdown",
   "id": "ec11ab3f-989f-4126-bff3-8f92c4b3f984",
   "metadata": {},
   "source": [
    "# Примеры команд класса math"
   ]
  },
  {
   "cell_type": "code",
   "execution_count": 25,
   "id": "8c31cfb3-af65-451a-966e-419c1b446f75",
   "metadata": {},
   "outputs": [
    {
     "name": "stdout",
     "output_type": "stream",
     "text": [
      "Square of a circle with radius of 10 is:  314.1592653589793\n"
     ]
    }
   ],
   "source": [
    "r = 10\n",
    "sq = math.pi*math.pow(r,2)\n",
    "print('Square of a circle with radius of 10 is: ', sq)\n"
   ]
  },
  {
   "cell_type": "code",
   "execution_count": 26,
   "id": "83824078-1a87-41af-b451-4527b7283368",
   "metadata": {},
   "outputs": [
    {
     "name": "stdout",
     "output_type": "stream",
     "text": [
      "Circumference of a circle with radius of 10 is: 62.83185307179586\n"
     ]
    }
   ],
   "source": [
    "r = 10\n",
    "cir = 2 * math.pi * r\n",
    "print(\"Circumference of a circle with radius of 10 is:\", cir)\n"
   ]
  },
  {
   "cell_type": "code",
   "execution_count": 30,
   "id": "67e8369c-9f0d-45aa-8d59-7c1550f039e0",
   "metadata": {},
   "outputs": [
    {
     "name": "stdout",
     "output_type": "stream",
     "text": [
      "Logarithm of 1000 to the base 10 is: 3.0\n"
     ]
    }
   ],
   "source": [
    "x = 1000\n",
    "log = math.log10(x)\n",
    "print(\"Logarithm of 1000 to the base 10 is:\", log)"
   ]
  },
  {
   "cell_type": "code",
   "execution_count": 29,
   "id": "4eddf220-f633-4953-a8a5-e704064a1570",
   "metadata": {},
   "outputs": [
    {
     "name": "stdout",
     "output_type": "stream",
     "text": [
      "Hypotenuse of a triangle with sides 3 and 4 is: 5.0\n"
     ]
    }
   ],
   "source": [
    "a = 3\n",
    "b = 4\n",
    "hyp = math.sqrt(math.pow(a, 2) + math.pow(b, 2))\n",
    "print(\"Hypotenuse of a triangle with sides 3 and 4 is:\", hyp)"
   ]
  },
  {
   "cell_type": "code",
   "execution_count": 31,
   "id": "024ced13-67e4-4e4f-99bd-70d352cd6071",
   "metadata": {},
   "outputs": [
    {
     "name": "stdout",
     "output_type": "stream",
     "text": [
      "Factorial of 5 is: 120\n"
     ]
    }
   ],
   "source": [
    "n = 5\n",
    "fac = math.factorial(n)\n",
    "print(\"Factorial of 5 is:\", fac)"
   ]
  },
  {
   "cell_type": "markdown",
   "id": "efdb3055-bc58-44d2-9bc4-44cfa8237e9f",
   "metadata": {},
   "source": [
    "# Advaced Printing"
   ]
  },
  {
   "cell_type": "code",
   "execution_count": 38,
   "id": "437959b4-4351-4815-b60f-82b8c3f10271",
   "metadata": {},
   "outputs": [
    {
     "name": "stdout",
     "output_type": "stream",
     "text": [
      "s or a is greater than 6\n"
     ]
    }
   ],
   "source": [
    "s=10\n",
    "a=6\n",
    "if s==5 and a>6:\n",
    "    print('The value of s is 5 and value of a is greater than 6')\n",
    "elif s>6 or a>6:\n",
    "    print('s or a is greater than 6')\n",
    "else:\n",
    "    print('Both values are less or equal to 6')"
   ]
  },
  {
   "cell_type": "markdown",
   "id": "464a57cb-d6a4-482d-9436-425d4d655795",
   "metadata": {},
   "source": [
    "# Conditional Statments in Python"
   ]
  },
  {
   "cell_type": "code",
   "execution_count": 35,
   "id": "dad01fd1-05c4-40d6-b849-287163a3a9bc",
   "metadata": {},
   "outputs": [
    {
     "name": "stdout",
     "output_type": "stream",
     "text": [
      "Our first value is 12. Our second value is True.\n"
     ]
    }
   ],
   "source": [
    "i = 12\n",
    "n = True\n",
    "print('Our first value is %s. Our second value is %s.' %(i,n))"
   ]
  },
  {
   "cell_type": "code",
   "execution_count": 40,
   "id": "48344b3b-7a61-4f56-9ecb-d2194924d1c3",
   "metadata": {},
   "outputs": [
    {
     "name": "stdout",
     "output_type": "stream",
     "text": [
      "[1, 23, 4]\n",
      "12\n",
      "23\n",
      "123\n"
     ]
    }
   ],
   "source": [
    "list = [12,23,123]\n",
    "print(l)\n",
    "for e in list:\n",
    "    print(e)"
   ]
  },
  {
   "cell_type": "code",
   "execution_count": 46,
   "id": "844e5893-6492-4646-8ee5-49fce848354c",
   "metadata": {},
   "outputs": [
    {
     "name": "stdout",
     "output_type": "stream",
     "text": [
      "These are the numbers from 0 to 34 :  0\n",
      "These are the numbers from 0 to 34 :  1\n",
      "These are the numbers from 0 to 34 :  2\n",
      "These are the numbers from 0 to 34 :  3\n",
      "These are the numbers from 0 to 34 :  4\n",
      "These are the numbers from 0 to 34 :  5\n",
      "These are the numbers from 0 to 34 :  6\n",
      "These are the numbers from 0 to 34 :  7\n",
      "These are the numbers from 0 to 34 :  8\n",
      "These are the numbers from 0 to 34 :  9\n",
      "These are the numbers from 0 to 34 :  10\n",
      "These are the numbers from 0 to 34 :  11\n",
      "These are the numbers from 0 to 34 :  12\n",
      "These are the numbers from 0 to 34 :  13\n",
      "These are the numbers from 0 to 34 :  14\n",
      "These are the numbers from 0 to 34 :  15\n",
      "These are the numbers from 0 to 34 :  16\n",
      "These are the numbers from 0 to 34 :  17\n",
      "These are the numbers from 0 to 34 :  18\n",
      "These are the numbers from 0 to 34 :  19\n",
      "These are the numbers from 0 to 34 :  20\n",
      "These are the numbers from 0 to 34 :  21\n",
      "These are the numbers from 0 to 34 :  22\n",
      "These are the numbers from 0 to 34 :  23\n",
      "These are the numbers from 0 to 34 :  24\n",
      "These are the numbers from 0 to 34 :  25\n",
      "These are the numbers from 0 to 34 :  26\n",
      "These are the numbers from 0 to 34 :  27\n",
      "These are the numbers from 0 to 34 :  28\n",
      "These are the numbers from 0 to 34 :  29\n",
      "These are the numbers from 0 to 34 :  30\n",
      "These are the numbers from 0 to 34 :  31\n",
      "These are the numbers from 0 to 34 :  32\n",
      "These are the numbers from 0 to 34 :  33\n",
      "These are the numbers from 0 to 34 :  34\n"
     ]
    }
   ],
   "source": [
    "for a in range(35):\n",
    "    print('These are the numbers from 0 to 34 : ',a)"
   ]
  },
  {
   "cell_type": "code",
   "execution_count": 47,
   "id": "8bbb172b-767a-49c5-ae1a-f4b67353e79a",
   "metadata": {},
   "outputs": [
    {
     "name": "stdout",
     "output_type": "stream",
     "text": [
      "Number:  0\n",
      "Number:  1\n",
      "Number:  2\n",
      "Number:  3\n",
      "Number:  4\n",
      "Number:  5\n",
      "Number:  6\n"
     ]
    }
   ],
   "source": [
    "import time\n",
    "for n in range(7):\n",
    "    time.sleep(2)\n",
    "    print('Number: ', n)"
   ]
  },
  {
   "cell_type": "code",
   "execution_count": 52,
   "id": "bcf66b27-c562-431e-8795-d2e43c32caba",
   "metadata": {},
   "outputs": [
    {
     "name": "stdout",
     "output_type": "stream",
     "text": [
      "7\n",
      "8\n",
      "9\n"
     ]
    }
   ],
   "source": [
    "c = 7\n",
    "while c < 10:\n",
    "    print(c)\n",
    "    c+=1"
   ]
  },
  {
   "cell_type": "markdown",
   "id": "7fa4117e-7d56-49a4-83fd-cbac67cde86d",
   "metadata": {},
   "source": [
    "# Creating functions in python"
   ]
  },
  {
   "cell_type": "code",
   "execution_count": 54,
   "id": "fcdcdbb5-be4f-40d2-b14a-62ea1f029ebe",
   "metadata": {},
   "outputs": [],
   "source": [
    "def add(a,b):\n",
    "    y = a+b\n",
    "    return y"
   ]
  },
  {
   "cell_type": "code",
   "execution_count": 55,
   "id": "d99352ea-3d25-44d7-bac2-81d66c640f84",
   "metadata": {},
   "outputs": [],
   "source": [
    "a = 4\n",
    "b = 8"
   ]
  },
  {
   "cell_type": "code",
   "execution_count": 56,
   "id": "826e2f10-cda7-4cba-beb5-caad3dc0a197",
   "metadata": {},
   "outputs": [
    {
     "data": {
      "text/plain": [
       "12"
      ]
     },
     "execution_count": 56,
     "metadata": {},
     "output_type": "execute_result"
    }
   ],
   "source": [
    "add(a,b)"
   ]
  },
  {
   "cell_type": "code",
   "execution_count": 57,
   "id": "a6640e1b-4931-48cd-8239-a6ad9e7fb1ef",
   "metadata": {},
   "outputs": [
    {
     "data": {
      "text/plain": [
       "121.0"
      ]
     },
     "execution_count": 57,
     "metadata": {},
     "output_type": "execute_result"
    }
   ],
   "source": [
    "square = lambda x : math.pow(x,2)\n",
    "square(11)"
   ]
  },
  {
   "cell_type": "code",
   "execution_count": 58,
   "id": "240a5c9f-5c55-4ec0-b5f8-ec7d7180d234",
   "metadata": {},
   "outputs": [
    {
     "name": "stdout",
     "output_type": "stream",
     "text": [
      "4.0\n"
     ]
    }
   ],
   "source": [
    "r = lambda s, v, k : s/v + k\n",
    "print(r(20,10,2))"
   ]
  },
  {
   "cell_type": "markdown",
   "id": "ac9b2dfd-b0a1-49fd-85cd-ea33fbf191bc",
   "metadata": {},
   "source": [
    "<h1> Heading 1 <h1>\n",
    "<h2> Heading 2 <h2>\n",
    "<h3> Heading 3 <h3>\n",
    "<h4> Heading 4 <h4>\n",
    "<h5> Heading 5 <h5>\n",
    "<h6> Heading 6 <h6>"
   ]
  },
  {
   "cell_type": "markdown",
   "id": "76d8e5f1-4cf4-40f9-8846-52887164e86c",
   "metadata": {},
   "source": [
    "<img src='leclerc.jpg' width='500'>"
   ]
  },
  {
   "cell_type": "markdown",
   "id": "038e1527-4f30-4041-ba21-945c870c39e7",
   "metadata": {},
   "source": [
    "\\begin{equation}\n",
    "\\left(sum_{k=1}^n a_k b_k\\right)^2\n",
    "\\end{equation}"
   ]
  },
  {
   "cell_type": "markdown",
   "id": "99a5050d-69d9-4cec-9402-ece1e25f5d4d",
   "metadata": {},
   "source": [
    "\\begin{equation}\n",
    "(E=mc^2)\n",
    "\\end{equation}\n"
   ]
  },
  {
   "cell_type": "code",
   "execution_count": 66,
   "id": "ddced207-77dc-4808-bcbe-67e45e602060",
   "metadata": {},
   "outputs": [
    {
     "name": "stdout",
     "output_type": "stream",
     "text": [
      "\n",
      "Windows IP Configuration\n",
      "\n",
      "\n",
      "Ethernet adapter Ethernet:\n",
      "\n",
      "   Media State . . . . . . . . . . . : Media disconnected\n",
      "   Connection-specific DNS Suffix  . : \n",
      "\n",
      "Wireless LAN adapter Џ®¤Є«озҐ­ЁҐ Ї® «®Є «м­®© бҐвЁ* 9:\n",
      "\n",
      "   Media State . . . . . . . . . . . : Media disconnected\n",
      "   Connection-specific DNS Suffix  . : \n",
      "\n",
      "Wireless LAN adapter Џ®¤Є«озҐ­ЁҐ Ї® «®Є «м­®© бҐвЁ* 10:\n",
      "\n",
      "   Media State . . . . . . . . . . . : Media disconnected\n",
      "   Connection-specific DNS Suffix  . : \n",
      "\n",
      "Wireless LAN adapter ЃҐбЇа®ў®¤­ п бҐвм:\n",
      "\n",
      "   Connection-specific DNS Suffix  . : \n",
      "   Link-local IPv6 Address . . . . . : fe80::81b1:945:6950:c0f6%4\n",
      "   IPv4 Address. . . . . . . . . . . : 192.168.255.21\n",
      "   Subnet Mask . . . . . . . . . . . : 255.255.255.0\n",
      "   Default Gateway . . . . . . . . . : 192.168.255.250\n",
      "\n",
      "Ethernet adapter ‘ҐвҐў®Ґ Ї®¤Є«озҐ­ЁҐ Bluetooth:\n",
      "\n",
      "   Media State . . . . . . . . . . . : Media disconnected\n",
      "   Connection-specific DNS Suffix  . : \n"
     ]
    }
   ],
   "source": [
    "! ipconfig"
   ]
  },
  {
   "cell_type": "code",
   "execution_count": 67,
   "id": "e9cbcdbf-768e-4750-8d7a-422c257979c4",
   "metadata": {},
   "outputs": [
    {
     "name": "stdout",
     "output_type": "stream",
     "text": [
      "\n",
      "Pinging realmadrid.com [95.100.66.88] with 32 bytes of data:\n",
      "Reply from 95.100.66.88: bytes=32 time=157ms TTL=51\n",
      "Reply from 95.100.66.88: bytes=32 time=122ms TTL=51\n",
      "Reply from 95.100.66.88: bytes=32 time=130ms TTL=51\n",
      "Reply from 95.100.66.88: bytes=32 time=233ms TTL=51\n",
      "\n",
      "Ping statistics for 95.100.66.88:\n",
      "    Packets: Sent = 4, Received = 4, Lost = 0 (0% loss),\n",
      "Approximate round trip times in milli-seconds:\n",
      "    Minimum = 122ms, Maximum = 233ms, Average = 160ms\n"
     ]
    }
   ],
   "source": [
    "! ping realmadrid.com\n"
   ]
  },
  {
   "cell_type": "markdown",
   "id": "7ccd856f-e80e-4288-97d1-8a4f852e26d4",
   "metadata": {},
   "source": [
    "# Task №4\n",
    "write a function which executes this formula:\n",
    "\\begin{equation}\n",
    "f = \\frac{9 \\pi t + 10 \\cos(x)}{\\sqrt{t} - \\sin(x)} e^{-2t}\n",
    "\\end{equation}\n",
    "\n"
   ]
  },
  {
   "cell_type": "code",
   "execution_count": 76,
   "id": "df8e0332-6c88-4d5e-b3c7-ce4974a5dacf",
   "metadata": {},
   "outputs": [
    {
     "data": {
      "text/plain": [
       "0.0021716303992004838"
      ]
     },
     "execution_count": 76,
     "metadata": {},
     "output_type": "execute_result"
    }
   ],
   "source": [
    "def f(x,t):\n",
    "    y = (9 * math.pi*t + 10 * math.cos(x)) * math.exp(-2*t) / (math.sqrt(t) - math.sin(x))\n",
    "    return y\n",
    "f(10,5)"
   ]
  },
  {
   "cell_type": "markdown",
   "id": "aeeee1fa-0c17-497f-8592-63f6092e1daf",
   "metadata": {},
   "source": [
    "# Task №5\n",
    " write down a functuon which defines out of three nubers which one is suited in an interval"
   ]
  },
  {
   "cell_type": "code",
   "execution_count": 99,
   "id": "269fcba2-7b58-459e-8b55-e169b9bc8622",
   "metadata": {},
   "outputs": [
    {
     "name": "stdout",
     "output_type": "stream",
     "text": [
      "Числа приналдежащие к интервалу от 1 до 15:  [3, 12]\n"
     ]
    }
   ],
   "source": [
    "def fr(a,b,c,d,f):\n",
    "    return[n for n in[a,b,c] if d <= n <= f]\n",
    "\n",
    "print(\"Числа приналдежащие к интервалу от 1 до 15: \",fr(3,12,32,1,15))"
   ]
  },
  {
   "cell_type": "markdown",
   "id": "54070bb1-9d88-48cf-9639-7a4cad435859",
   "metadata": {},
   "source": [
    "# Task №6\n",
    " create a generator of 20 random numbers from 0 to 10"
   ]
  },
  {
   "cell_type": "code",
   "execution_count": 106,
   "id": "48b1584f-a16f-4352-9d3a-a9168e85aa24",
   "metadata": {},
   "outputs": [
    {
     "name": "stdout",
     "output_type": "stream",
     "text": [
      "1 :  1\n",
      "2 :  0\n",
      "3 :  8\n",
      "4 :  10\n",
      "5 :  8\n",
      "6 :  0\n",
      "7 :  0\n",
      "8 :  0\n",
      "9 :  4\n",
      "10 :  1\n",
      "11 :  2\n",
      "12 :  5\n",
      "13 :  7\n",
      "14 :  0\n",
      "15 :  8\n",
      "16 :  0\n",
      "17 :  4\n",
      "18 :  2\n",
      "19 :  7\n",
      "20 :  4\n"
     ]
    }
   ],
   "source": [
    "import random\n",
    "for i in range(20):\n",
    "    print(i+1,\": \", random.randint(0,10))\n",
    "    "
   ]
  },
  {
   "cell_type": "markdown",
   "id": "1dfe39b5-fa76-4cf6-a172-90829ee4202f",
   "metadata": {},
   "source": [
    "<h1 style=\"margin-bottom: 0;\">Task №7</h1>\n",
    "<h3 style=\"margin-top: 0;\">Find a sum of first 20 elements of the subsequence: </h3>\n",
    "\n",
    "\\begin{equation}\n",
    "\\frac{1}{2+3}, \\frac{2}{3+4}, \\frac{3}{4+5} ....\n",
    "\\end{equation}"
   ]
  },
  {
   "cell_type": "code",
   "execution_count": 2,
   "id": "cac54314-4d71-48b0-989a-1c3dcef9396b",
   "metadata": {},
   "outputs": [
    {
     "name": "stdout",
     "output_type": "stream",
     "text": [
      "8.209021097669307\n"
     ]
    }
   ],
   "source": [
    "sum = 0\n",
    "for i in range(1,21):\n",
    "    b = i+1\n",
    "    c = i+2\n",
    "    sum+= i/(b+c)\n",
    "print(sum)"
   ]
  },
  {
   "cell_type": "markdown",
   "id": "0d836066-c8c6-494e-90e3-ee50432b3770",
   "metadata": {},
   "source": [
    "# Task №9\n",
    "<h3>Answer the questions:</h3>"
   ]
  },
  {
   "cell_type": "markdown",
   "id": "e2d78453-491b-4a9b-9efd-3efd4f2bc17b",
   "metadata": {},
   "source": [
    "<h3>1.\tПочему для работы с большими данными и для машинного обучения выбирают язык Python? Перечислите не менее трех причин?</h3>"
   ]
  },
  {
   "cell_type": "markdown",
   "id": "ebcd485a-b508-47de-a798-1f178236e006",
   "metadata": {},
   "source": [
    "* Простота синтаксиса и легкость освоения\n",
    "* Широкий выбор библиотек для обработки данных и машинного обучения.\n",
    "* Хорошая интеграция с другими языками и платформами.\n",
    "* Большое сообщество и поддержка."
   ]
  },
  {
   "cell_type": "markdown",
   "id": "f10fd3c4-43d6-4257-88d9-bf9598de1006",
   "metadata": {},
   "source": [
    "<h3>2.\tВ чем особенности среды Jupyter Notebook, почему ее выбирают специалисты по Data Science? </h3>"
   ]
  },
  {
   "cell_type": "markdown",
   "id": "9df0c725-9c38-4803-9bfa-ce6c98532b2d",
   "metadata": {},
   "source": [
    "* Возможность интерактивного программирования с пошаговым выполнением кода.\n",
    "* Удобство визуализации данных.\n",
    "* Возможность добавления текста, формул и графиков, что делает её удобной для создания отчетов и презентаций."
   ]
  },
  {
   "cell_type": "markdown",
   "id": "8a39198c-c589-4e7f-bd99-be470d1cac2e",
   "metadata": {},
   "source": [
    "<h3>3.\tПеречислите основные библиотеки Python для машинного обучения.</h3>\n",
    "\n",
    "* Scikit-learn\n",
    "* TensorFlow\n",
    "* PyTorch\n",
    "\n",
    "<h3>4.\tКакие типы данных Python вы знаете?</h3>\n",
    "\n",
    "* int (целые числа)\n",
    "* float (числа с плавающей точкой)\n",
    "* str (строки)\n",
    "* list (списки)\n",
    "* dict (словари)\n",
    "* tuple (кортежи)\n",
    "* set (множества)\n",
    "* bool (логический тип)\n",
    "\n",
    "<h3>5.\tНазовите основные языковые конструкции Python</h3>\n",
    "\n",
    "* Условные операторы (if, elif, else)\n",
    "* Циклы (for, while)\n",
    "* Функции (def)\n",
    "* Исключения (try, except)\n",
    "\n",
    "<h3>6.\tКакое назначение у оператора if … else?</h3>\n",
    "\n",
    "* Для выполнения определенных действий в зависимости от условий: если условие истинно, выполняется код после if, если ложно — после else.\n",
    "\n",
    "<h3>7.\tКогда заканчивается выполнение оператора while?</h3>\n",
    "\n",
    "* Когда условие, указанное в while, становится ложным.\n",
    "\n",
    "<h3>8.\tКакие способы задания функций есть в Python?</h3>\n",
    "\n",
    "* Определение функции через ключевое слово def().\n",
    "* Лямбда-функции (анонимные функции).\n",
    "\n",
    "<h3>9. Что такое Лямбда-функция?</h3>\n",
    "\n",
    "* Анонимная функция, определяемая с помощью ключевого слова lambda, которая может принимать любое количество аргументов, но содержит только одно выражение.\n",
    "\n",
    "<h3>10.\tКакая библиотека Python отвечает за выполнение основным математических функций?</h3>\n",
    "\n",
    "* Библиотека NumPy в Python отвечает за выполнение основных математических функций, включая операции с массивами, линейную алгебру, статистику и другие численные вычисления.\n",
    "    Кроме того, для выполнения расширенных математических операций также используется библиотека math, которая предоставляет функции для работы с числами, тригонометрическими функциями, логарифмами и т.д.\n",
    "\n",
    "<h3>11.\tНазовите дополнительные возможности использования среды Jupyter Notebook.</h3>\n",
    "\n",
    "* Поддержка различных языков программирования.\n",
    "* Интерактивная визуализация данных:\n",
    "* Конвертация в различные форматы\n",
    "* Расширяемость через плагины\n",
    "* Подключение к удаленным вычислительным серверам.\n",
    "* Расширение функциональности с помощью сторонних модулей и виджетов."
   ]
  },
  {
   "cell_type": "code",
   "execution_count": null,
   "id": "a9643ada-c2d4-4daa-859f-3f5b6d263640",
   "metadata": {},
   "outputs": [],
   "source": []
  }
 ],
 "metadata": {
  "kernelspec": {
   "display_name": "Python 3 (ipykernel)",
   "language": "python",
   "name": "python3"
  },
  "language_info": {
   "codemirror_mode": {
    "name": "ipython",
    "version": 3
   },
   "file_extension": ".py",
   "mimetype": "text/x-python",
   "name": "python",
   "nbconvert_exporter": "python",
   "pygments_lexer": "ipython3",
   "version": "3.11.5"
  }
 },
 "nbformat": 4,
 "nbformat_minor": 5
}

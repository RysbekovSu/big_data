{
 "cells": [
  {
   "cell_type": "code",
   "execution_count": 33,
   "id": "63b47c03-b534-42ba-8839-cb5ee64fc636",
   "metadata": {},
   "outputs": [],
   "source": [
    "import numpy as np"
   ]
  },
  {
   "cell_type": "markdown",
   "id": "4b3bd212-21f9-4ef6-b2b0-3355c62d6815",
   "metadata": {},
   "source": [
    "<h1  style=\"color: blue;\">1.\tИспользование команд библиотеки NumPy</h1>\n",
    "# 1.1 Создайте одномерный массив my_array, в котором по порядку все числа до 100, кратные 5"
   ]
  },
  {
   "cell_type": "code",
   "execution_count": 34,
   "id": "fc3eb6d7-e79b-4cd1-9cef-53e4910592cc",
   "metadata": {},
   "outputs": [
    {
     "data": {
      "text/plain": [
       "array([  5,  10,  15,  20,  25,  30,  35,  40,  45,  50,  55,  60,  65,\n",
       "        70,  75,  80,  85,  90,  95, 100])"
      ]
     },
     "execution_count": 34,
     "metadata": {},
     "output_type": "execute_result"
    }
   ],
   "source": [
    "my_array = np.arange(5,101,5)\n",
    "my_array"
   ]
  },
  {
   "cell_type": "markdown",
   "id": "6aae4f78-3af0-49b4-b47e-302f82df799f",
   "metadata": {},
   "source": [
    "# 2.1   Из полученного массива получить массив с кратными 10 числами"
   ]
  },
  {
   "cell_type": "code",
   "execution_count": 35,
   "id": "b9197c81-3c50-4423-91c2-e250de685825",
   "metadata": {},
   "outputs": [
    {
     "data": {
      "text/plain": [
       "array([ 10,  20,  30,  40,  50,  60,  70,  80,  90, 100])"
      ]
     },
     "execution_count": 35,
     "metadata": {},
     "output_type": "execute_result"
    }
   ],
   "source": [
    "my_array = my_array[my_array % 10 == 0]\n",
    "my_array"
   ]
  },
  {
   "cell_type": "markdown",
   "id": "5bb00109-f768-41f4-9e0d-3f7910816e8c",
   "metadata": {},
   "source": [
    "# 3.1 Получить двумерный массив с двумя столбцами"
   ]
  },
  {
   "cell_type": "code",
   "execution_count": 36,
   "id": "ae522b8c-5700-4670-94e8-1efd2086379b",
   "metadata": {},
   "outputs": [
    {
     "data": {
      "text/plain": [
       "array([[ 10,  20],\n",
       "       [ 30,  40],\n",
       "       [ 50,  60],\n",
       "       [ 70,  80],\n",
       "       [ 90, 100]])"
      ]
     },
     "execution_count": 36,
     "metadata": {},
     "output_type": "execute_result"
    }
   ],
   "source": [
    "two_columns = my_array.reshape(5,2)\n",
    "two_columns"
   ]
  },
  {
   "cell_type": "markdown",
   "id": "97d26a0d-4bd8-424e-a6c9-1c28159dfa91",
   "metadata": {},
   "source": [
    "# 4.1.  Получите набор my_second_array, в котором все элементы меньше предыдущего исходного на 5"
   ]
  },
  {
   "cell_type": "code",
   "execution_count": 37,
   "id": "cd5be9f3-17ef-4868-b972-98b86b06eddf",
   "metadata": {},
   "outputs": [
    {
     "data": {
      "text/plain": [
       "array([ 5, 15, 25, 35, 45, 55, 65, 75, 85, 95])"
      ]
     },
     "execution_count": 37,
     "metadata": {},
     "output_type": "execute_result"
    }
   ],
   "source": [
    "my_second_array =  my_array  - 5\n",
    "my_second_array"
   ]
  },
  {
   "cell_type": "markdown",
   "id": "4b5da561-028b-4ab2-a423-d8a8a6cac45e",
   "metadata": {},
   "source": [
    "# 5.1.  Соедините массивы, полученные в п. 3.1 и 4.1, горизонтально. Используйте .T для транспонирования матрицы."
   ]
  },
  {
   "cell_type": "code",
   "execution_count": 38,
   "id": "4f3f2696-47d3-46ff-87ad-922d9beb6108",
   "metadata": {},
   "outputs": [
    {
     "data": {
      "text/plain": [
       "array([[ 10,  30,  50,  70,  90],\n",
       "       [ 20,  40,  60,  80, 100],\n",
       "       [  5,  25,  45,  65,  85],\n",
       "       [ 15,  35,  55,  75,  95]])"
      ]
     },
     "execution_count": 38,
     "metadata": {},
     "output_type": "execute_result"
    }
   ],
   "source": [
    "final =  np.hstack((two_columns,my_second_array.reshape(5,2)))\n",
    "final\n",
    "final_T = final.T\n",
    "final_T"
   ]
  },
  {
   "cell_type": "markdown",
   "id": "8be2a367-62f5-40e6-9acd-3bb49e277f8d",
   "metadata": {},
   "source": [
    "# 6.1.  Разделите 2 и 3 строку на 4 верхних строки my_array. Используйте .T для транспонирования матрицы"
   ]
  },
  {
   "cell_type": "code",
   "execution_count": 39,
   "id": "3cf3fa32-7374-4735-be23-bcfe6ab5befc",
   "metadata": {},
   "outputs": [
    {
     "data": {
      "text/plain": [
       "array([[2.   , 0.5  ],\n",
       "       [2.   , 1.25 ],\n",
       "       [2.   , 1.5  ],\n",
       "       [2.   , 1.625]])"
      ]
     },
     "execution_count": 39,
     "metadata": {},
     "output_type": "execute_result"
    }
   ],
   "source": [
    "four = my_array[:4]\n",
    "devided = final_T[1:3,:4] / four\n",
    "devided_T = devided.T\n",
    "devided_T"
   ]
  },
  {
   "cell_type": "markdown",
   "id": "c744b715-2984-4c52-ae54-6aaa19beeb2c",
   "metadata": {},
   "source": [
    "# 7.1.  Оставить только те значения, которые не изменились после деления"
   ]
  },
  {
   "cell_type": "code",
   "execution_count": 43,
   "id": "7ef1b2ff-dfee-467d-9862-6b6baee67d23",
   "metadata": {},
   "outputs": [
    {
     "name": "stdout",
     "output_type": "stream",
     "text": [
      "[]\n"
     ]
    }
   ],
   "source": [
    "unchanged = devided[devided == 1]\n",
    "print(unchanged)"
   ]
  },
  {
   "cell_type": "markdown",
   "id": "64423204-b4e6-4a29-86af-392d2f4c5707",
   "metadata": {},
   "source": [
    "# 8.1.  Снова получить трехстрочный двумерный массив и поменять местами первую и третью строки"
   ]
  },
  {
   "cell_type": "code",
   "execution_count": 44,
   "id": "0436bb9a-cb52-4199-b4a2-369d8b94d9c5",
   "metadata": {},
   "outputs": [
    {
     "data": {
      "text/plain": [
       "array([[19, 20, 21, 22, 23, 24, 25, 26, 27],\n",
       "       [10, 11, 12, 13, 14, 12, 16, 17, 18],\n",
       "       [ 1,  2,  3,  4,  5,  6,  7,  8,  9]])"
      ]
     },
     "execution_count": 44,
     "metadata": {},
     "output_type": "execute_result"
    }
   ],
   "source": [
    "three_array = np.arange(1,28).reshape(3,-1)\n",
    "three_array[1,5]= 12\n",
    "three_array\n",
    "swaped = three_array[::-1]\n",
    "swaped"
   ]
  },
  {
   "cell_type": "markdown",
   "id": "18234a5f-29b5-427b-9829-fecb9d0fe0e3",
   "metadata": {},
   "source": [
    "# 9.1.  Получить среднее, медиану и стандартное отклонение для каждой строки, используя команды np.mean(), np.median(), np.std()."
   ]
  },
  {
   "cell_type": "code",
   "execution_count": 45,
   "id": "4358a203-b78b-4122-8e96-241451753316",
   "metadata": {},
   "outputs": [
    {
     "data": {
      "text/plain": [
       "array([23.        , 13.66666667,  5.        ])"
      ]
     },
     "execution_count": 45,
     "metadata": {},
     "output_type": "execute_result"
    }
   ],
   "source": [
    "mean_values = np.mean(swaped, axis=1)\n",
    "mean_values\n"
   ]
  },
  {
   "cell_type": "code",
   "execution_count": 46,
   "id": "3de6651c-c918-4809-8528-94b60dea9f9f",
   "metadata": {},
   "outputs": [
    {
     "data": {
      "text/plain": [
       "array([23., 13.,  5.])"
      ]
     },
     "execution_count": 46,
     "metadata": {},
     "output_type": "execute_result"
    }
   ],
   "source": [
    "median_values = np.median(swaped, axis=1)\n",
    "median_values\n"
   ]
  },
  {
   "cell_type": "code",
   "execution_count": 47,
   "id": "2cd2491b-8f31-4da1-a8d5-374cef9da88d",
   "metadata": {},
   "outputs": [
    {
     "data": {
      "text/plain": [
       "array([2.5819889 , 2.62466929, 2.5819889 ])"
      ]
     },
     "execution_count": 47,
     "metadata": {},
     "output_type": "execute_result"
    }
   ],
   "source": [
    "std_dev_values = np.std(swaped, axis=1)\n",
    "std_dev_values"
   ]
  },
  {
   "cell_type": "markdown",
   "id": "b964cdcf-f040-4c8d-90a8-7608693e8801",
   "metadata": {},
   "source": [
    "# 10.1.  Сделать нормализацию на максимальное значение вдоль строк, поделив каждый элемент массива на max() вдоль строк"
   ]
  },
  {
   "cell_type": "code",
   "execution_count": 48,
   "id": "2075fd94-ebfb-4866-becc-b573e5811da1",
   "metadata": {},
   "outputs": [
    {
     "data": {
      "text/plain": [
       "array([[0.11111111, 0.22222222, 0.33333333, 0.44444444, 0.55555556,\n",
       "        0.66666667, 0.77777778, 0.88888889, 1.        ],\n",
       "       [0.55555556, 0.61111111, 0.66666667, 0.72222222, 0.77777778,\n",
       "        0.66666667, 0.88888889, 0.94444444, 1.        ],\n",
       "       [0.7037037 , 0.74074074, 0.77777778, 0.81481481, 0.85185185,\n",
       "        0.88888889, 0.92592593, 0.96296296, 1.        ]])"
      ]
     },
     "execution_count": 48,
     "metadata": {},
     "output_type": "execute_result"
    }
   ],
   "source": [
    "normal_arr = three_array / np.max(three_array, axis = 1).reshape(-1,1)\n",
    "normal_arr"
   ]
  },
  {
   "cell_type": "markdown",
   "id": "87197139-96d7-44a0-9e4f-a8d7c5cfae9a",
   "metadata": {},
   "source": [
    "<h1  style=\"color: blue;\">2.\tИспользование команд библиотеки pandas</h1>"
   ]
  },
  {
   "cell_type": "markdown",
   "id": "b7f742f1-971b-4820-abe8-dd1e5646c142",
   "metadata": {},
   "source": [
    "# 2.1.\tИмпортируйте данные из файла “Global Population Trends(2016-2022).csv”."
   ]
  },
  {
   "cell_type": "code",
   "execution_count": 7,
   "id": "ef4beba0-48b6-4d7d-b7b0-750e6f3d548a",
   "metadata": {},
   "outputs": [],
   "source": [
    "import pandas as pd"
   ]
  },
  {
   "cell_type": "markdown",
   "id": "009f9cff-4323-42bf-bd5c-c0d693ad3dff",
   "metadata": {},
   "source": [
    "# 2.2.\t Считайте несколько первых записей таблицы (head())"
   ]
  },
  {
   "cell_type": "code",
   "execution_count": 8,
   "id": "389e0330-e729-4648-be65-4bddfd2991bc",
   "metadata": {},
   "outputs": [
    {
     "data": {
      "text/html": [
       "<div>\n",
       "<style scoped>\n",
       "    .dataframe tbody tr th:only-of-type {\n",
       "        vertical-align: middle;\n",
       "    }\n",
       "\n",
       "    .dataframe tbody tr th {\n",
       "        vertical-align: top;\n",
       "    }\n",
       "\n",
       "    .dataframe thead th {\n",
       "        text-align: right;\n",
       "    }\n",
       "</style>\n",
       "<table border=\"1\" class=\"dataframe\">\n",
       "  <thead>\n",
       "    <tr style=\"text-align: right;\">\n",
       "      <th></th>\n",
       "      <th>Country</th>\n",
       "      <th>Year</th>\n",
       "      <th>Total Population</th>\n",
       "      <th>Urban Population</th>\n",
       "      <th>Rural Population</th>\n",
       "      <th>Population Density</th>\n",
       "      <th>Life Expectancy</th>\n",
       "      <th>Birth Rate</th>\n",
       "      <th>Death Rate</th>\n",
       "      <th>Fertility Rate</th>\n",
       "      <th>Infant Mortality Rate</th>\n",
       "      <th>Growth Rate</th>\n",
       "    </tr>\n",
       "  </thead>\n",
       "  <tbody>\n",
       "    <tr>\n",
       "      <th>0</th>\n",
       "      <td>Afghanistan</td>\n",
       "      <td>2017</td>\n",
       "      <td>-</td>\n",
       "      <td>-</td>\n",
       "      <td>-</td>\n",
       "      <td>55</td>\n",
       "      <td>63.0</td>\n",
       "      <td>37.342</td>\n",
       "      <td>7.027</td>\n",
       "      <td>5.129</td>\n",
       "      <td>49.4</td>\n",
       "      <td>-</td>\n",
       "    </tr>\n",
       "    <tr>\n",
       "      <th>1</th>\n",
       "      <td>Afghanistan</td>\n",
       "      <td>2018</td>\n",
       "      <td>36,686,784</td>\n",
       "      <td>9,353,296</td>\n",
       "      <td>27,333,488</td>\n",
       "      <td>56</td>\n",
       "      <td>63.0</td>\n",
       "      <td>36.927</td>\n",
       "      <td>6.981</td>\n",
       "      <td>5.002</td>\n",
       "      <td>47.8</td>\n",
       "      <td>3.0</td>\n",
       "    </tr>\n",
       "    <tr>\n",
       "      <th>2</th>\n",
       "      <td>Afghanistan</td>\n",
       "      <td>2019</td>\n",
       "      <td>37,769,499</td>\n",
       "      <td>9,727,157</td>\n",
       "      <td>28,042,342</td>\n",
       "      <td>58</td>\n",
       "      <td>64.0</td>\n",
       "      <td>36.466</td>\n",
       "      <td>6.791</td>\n",
       "      <td>4.87</td>\n",
       "      <td>46.3</td>\n",
       "      <td>3.0</td>\n",
       "    </tr>\n",
       "    <tr>\n",
       "      <th>3</th>\n",
       "      <td>Afghanistan</td>\n",
       "      <td>2020</td>\n",
       "      <td>38,972,230</td>\n",
       "      <td>10,142,913</td>\n",
       "      <td>28,829,317</td>\n",
       "      <td>60</td>\n",
       "      <td>63.0</td>\n",
       "      <td>36.051</td>\n",
       "      <td>7.113</td>\n",
       "      <td>4.75</td>\n",
       "      <td>44.8</td>\n",
       "      <td>3.0</td>\n",
       "    </tr>\n",
       "    <tr>\n",
       "      <th>4</th>\n",
       "      <td>Afghanistan</td>\n",
       "      <td>2021</td>\n",
       "      <td>40,099,462</td>\n",
       "      <td>10,551,772</td>\n",
       "      <td>29,547,690</td>\n",
       "      <td>-</td>\n",
       "      <td>62.0</td>\n",
       "      <td>35.842</td>\n",
       "      <td>7.344</td>\n",
       "      <td>4.643</td>\n",
       "      <td>43.4</td>\n",
       "      <td>3.0</td>\n",
       "    </tr>\n",
       "  </tbody>\n",
       "</table>\n",
       "</div>"
      ],
      "text/plain": [
       "       Country  Year Total Population Urban Population Rural Population  \\\n",
       "0  Afghanistan  2017                -                -                -   \n",
       "1  Afghanistan  2018       36,686,784        9,353,296       27,333,488   \n",
       "2  Afghanistan  2019       37,769,499        9,727,157       28,042,342   \n",
       "3  Afghanistan  2020       38,972,230       10,142,913       28,829,317   \n",
       "4  Afghanistan  2021       40,099,462       10,551,772       29,547,690   \n",
       "\n",
       "  Population Density Life Expectancy  Birth Rate  Death Rate Fertility Rate  \\\n",
       "0                 55            63.0      37.342       7.027          5.129   \n",
       "1                 56            63.0      36.927       6.981          5.002   \n",
       "2                 58            64.0      36.466       6.791           4.87   \n",
       "3                 60            63.0      36.051       7.113           4.75   \n",
       "4                  -            62.0      35.842       7.344          4.643   \n",
       "\n",
       "  Infant Mortality Rate Growth Rate  \n",
       "0                  49.4           -  \n",
       "1                  47.8         3.0  \n",
       "2                  46.3         3.0  \n",
       "3                  44.8         3.0  \n",
       "4                  43.4         3.0  "
      ]
     },
     "execution_count": 8,
     "metadata": {},
     "output_type": "execute_result"
    }
   ],
   "source": [
    "df = pd.read_csv('Global Population Trends(2016-2022).csv')\n",
    "df.head()"
   ]
  },
  {
   "cell_type": "markdown",
   "id": "e9c1d53a-996d-4418-89fa-470cbb532396",
   "metadata": {},
   "source": [
    "# 2.3.\t Определите размерность данного фрейма (shape())"
   ]
  },
  {
   "cell_type": "code",
   "execution_count": 9,
   "id": "c71b09b4-c8c8-4fb4-a83f-443548a26c4d",
   "metadata": {},
   "outputs": [
    {
     "data": {
      "text/plain": [
       "(1073, 12)"
      ]
     },
     "execution_count": 9,
     "metadata": {},
     "output_type": "execute_result"
    }
   ],
   "source": [
    "df.shape"
   ]
  },
  {
   "cell_type": "markdown",
   "id": "901e8118-a9f3-4632-b7c7-65136cf717a9",
   "metadata": {},
   "source": [
    "# 2.4. Выведите название заголовков столбцов фрейма (columns)"
   ]
  },
  {
   "cell_type": "code",
   "execution_count": 10,
   "id": "edae3bcf-c38c-4949-a4a3-4a242b4e74e4",
   "metadata": {},
   "outputs": [
    {
     "data": {
      "text/plain": [
       "Index(['Country', 'Year', 'Total Population', 'Urban Population',\n",
       "       'Rural Population', 'Population Density', 'Life Expectancy',\n",
       "       'Birth Rate', 'Death Rate', 'Fertility Rate', 'Infant Mortality Rate',\n",
       "       'Growth Rate'],\n",
       "      dtype='object')"
      ]
     },
     "execution_count": 10,
     "metadata": {},
     "output_type": "execute_result"
    }
   ],
   "source": [
    "df.columns"
   ]
  },
  {
   "cell_type": "markdown",
   "id": "bb098733-64e9-4543-abf5-e052183d5730",
   "metadata": {},
   "source": [
    "# 2.5.\tПолучите описание всех переменных (полей) (info())"
   ]
  },
  {
   "cell_type": "code",
   "execution_count": 11,
   "id": "7ada5269-f347-4fbd-8aae-9208af714869",
   "metadata": {},
   "outputs": [
    {
     "data": {
      "text/plain": [
       "<bound method DataFrame.info of           Country  Year Total Population Urban Population Rural Population  \\\n",
       "0     Afghanistan  2017                -                -                -   \n",
       "1     Afghanistan  2018       36,686,784        9,353,296       27,333,488   \n",
       "2     Afghanistan  2019       37,769,499        9,727,157       28,042,342   \n",
       "3     Afghanistan  2020       38,972,230       10,142,913       28,829,317   \n",
       "4     Afghanistan  2021       40,099,462       10,551,772       29,547,690   \n",
       "...           ...   ...              ...              ...              ...   \n",
       "1068     Zimbabwe  2017                -                -                -   \n",
       "1069     Zimbabwe  2018       15,052,184        4,848,158       10,204,026   \n",
       "1070     Zimbabwe  2019       15,354,608        4,945,719       10,408,889   \n",
       "1071     Zimbabwe  2020       15,669,666        5,052,214       10,617,452   \n",
       "1072     Zimbabwe  2021       15,993,524        5,166,388       10,827,136   \n",
       "\n",
       "     Population Density Life Expectancy  Birth Rate  Death Rate  \\\n",
       "0                    55            63.0      37.342       7.027   \n",
       "1                    56            63.0      36.927       6.981   \n",
       "2                    58            64.0      36.466       6.791   \n",
       "3                    60            63.0      36.051       7.113   \n",
       "4                     -            62.0      35.842       7.344   \n",
       "...                 ...             ...         ...         ...   \n",
       "1068                 38            61.0      32.516       8.266   \n",
       "1069                 39            61.0      32.074       7.972   \n",
       "1070                 40            61.0      31.518       8.043   \n",
       "1071                 41            61.0      31.009       8.132   \n",
       "1072                  -            59.0      30.537       9.057   \n",
       "\n",
       "     Fertility Rate Infant Mortality Rate Growth Rate  \n",
       "0             5.129                  49.4           -  \n",
       "1             5.002                  47.8         3.0  \n",
       "2              4.87                  46.3         3.0  \n",
       "3              4.75                  44.8         3.0  \n",
       "4             4.643                  43.4         3.0  \n",
       "...             ...                   ...         ...  \n",
       "1068          3.706                  39.5           -  \n",
       "1069          3.659                  38.0         2.0  \n",
       "1070          3.599                  37.1         2.0  \n",
       "1071          3.545                  36.6         2.0  \n",
       "1072          3.491                  35.7         2.0  \n",
       "\n",
       "[1073 rows x 12 columns]>"
      ]
     },
     "execution_count": 11,
     "metadata": {},
     "output_type": "execute_result"
    }
   ],
   "source": [
    "df.info"
   ]
  },
  {
   "cell_type": "markdown",
   "id": "f49cb29c-a3e6-4587-babf-a54cb66cd25b",
   "metadata": {},
   "source": [
    "# 2.6.\t Удалите строки, не содержащие значения в столбце «Total Population» - “-” "
   ]
  },
  {
   "cell_type": "code",
   "execution_count": 26,
   "id": "c88f5344-253c-4653-ad1f-aa386d38e3d6",
   "metadata": {},
   "outputs": [
    {
     "data": {
      "text/html": [
       "<div>\n",
       "<style scoped>\n",
       "    .dataframe tbody tr th:only-of-type {\n",
       "        vertical-align: middle;\n",
       "    }\n",
       "\n",
       "    .dataframe tbody tr th {\n",
       "        vertical-align: top;\n",
       "    }\n",
       "\n",
       "    .dataframe thead th {\n",
       "        text-align: right;\n",
       "    }\n",
       "</style>\n",
       "<table border=\"1\" class=\"dataframe\">\n",
       "  <thead>\n",
       "    <tr style=\"text-align: right;\">\n",
       "      <th></th>\n",
       "      <th>Country</th>\n",
       "      <th>Year</th>\n",
       "      <th>Total Population</th>\n",
       "      <th>Urban Population</th>\n",
       "      <th>Rural Population</th>\n",
       "      <th>Population Density</th>\n",
       "      <th>Life Expectancy</th>\n",
       "      <th>Birth Rate</th>\n",
       "      <th>Death Rate</th>\n",
       "      <th>Fertility Rate</th>\n",
       "      <th>Infant Mortality Rate</th>\n",
       "      <th>Growth Rate</th>\n",
       "    </tr>\n",
       "  </thead>\n",
       "  <tbody>\n",
       "    <tr>\n",
       "      <th>1</th>\n",
       "      <td>Afghanistan</td>\n",
       "      <td>2018</td>\n",
       "      <td>36,686,784</td>\n",
       "      <td>9,353,296</td>\n",
       "      <td>27,333,488</td>\n",
       "      <td>56</td>\n",
       "      <td>63.0</td>\n",
       "      <td>36.927</td>\n",
       "      <td>6.981</td>\n",
       "      <td>5.002</td>\n",
       "      <td>47.8</td>\n",
       "      <td>3.0</td>\n",
       "    </tr>\n",
       "    <tr>\n",
       "      <th>2</th>\n",
       "      <td>Afghanistan</td>\n",
       "      <td>2019</td>\n",
       "      <td>37,769,499</td>\n",
       "      <td>9,727,157</td>\n",
       "      <td>28,042,342</td>\n",
       "      <td>58</td>\n",
       "      <td>64.0</td>\n",
       "      <td>36.466</td>\n",
       "      <td>6.791</td>\n",
       "      <td>4.87</td>\n",
       "      <td>46.3</td>\n",
       "      <td>3.0</td>\n",
       "    </tr>\n",
       "    <tr>\n",
       "      <th>3</th>\n",
       "      <td>Afghanistan</td>\n",
       "      <td>2020</td>\n",
       "      <td>38,972,230</td>\n",
       "      <td>10,142,913</td>\n",
       "      <td>28,829,317</td>\n",
       "      <td>60</td>\n",
       "      <td>63.0</td>\n",
       "      <td>36.051</td>\n",
       "      <td>7.113</td>\n",
       "      <td>4.75</td>\n",
       "      <td>44.8</td>\n",
       "      <td>3.0</td>\n",
       "    </tr>\n",
       "    <tr>\n",
       "      <th>4</th>\n",
       "      <td>Afghanistan</td>\n",
       "      <td>2021</td>\n",
       "      <td>40,099,462</td>\n",
       "      <td>10,551,772</td>\n",
       "      <td>29,547,690</td>\n",
       "      <td>-</td>\n",
       "      <td>62.0</td>\n",
       "      <td>35.842</td>\n",
       "      <td>7.344</td>\n",
       "      <td>4.643</td>\n",
       "      <td>43.4</td>\n",
       "      <td>3.0</td>\n",
       "    </tr>\n",
       "    <tr>\n",
       "      <th>6</th>\n",
       "      <td>Albania</td>\n",
       "      <td>2018</td>\n",
       "      <td>2,866,376</td>\n",
       "      <td>1,728,969</td>\n",
       "      <td>1,137,407</td>\n",
       "      <td>105</td>\n",
       "      <td>79.0</td>\n",
       "      <td>10.517</td>\n",
       "      <td>8.308</td>\n",
       "      <td>1.44</td>\n",
       "      <td>8.3</td>\n",
       "      <td>0.0</td>\n",
       "    </tr>\n",
       "    <tr>\n",
       "      <th>...</th>\n",
       "      <td>...</td>\n",
       "      <td>...</td>\n",
       "      <td>...</td>\n",
       "      <td>...</td>\n",
       "      <td>...</td>\n",
       "      <td>...</td>\n",
       "      <td>...</td>\n",
       "      <td>...</td>\n",
       "      <td>...</td>\n",
       "      <td>...</td>\n",
       "      <td>...</td>\n",
       "      <td>...</td>\n",
       "    </tr>\n",
       "    <tr>\n",
       "      <th>1067</th>\n",
       "      <td>Zambia</td>\n",
       "      <td>2021</td>\n",
       "      <td>19,473,125</td>\n",
       "      <td>8,800,295</td>\n",
       "      <td>10,672,830</td>\n",
       "      <td>-</td>\n",
       "      <td>61.0</td>\n",
       "      <td>34.511</td>\n",
       "      <td>6.973</td>\n",
       "      <td>4.308</td>\n",
       "      <td>40.2</td>\n",
       "      <td>3.0</td>\n",
       "    </tr>\n",
       "    <tr>\n",
       "      <th>1069</th>\n",
       "      <td>Zimbabwe</td>\n",
       "      <td>2018</td>\n",
       "      <td>15,052,184</td>\n",
       "      <td>4,848,158</td>\n",
       "      <td>10,204,026</td>\n",
       "      <td>39</td>\n",
       "      <td>61.0</td>\n",
       "      <td>32.074</td>\n",
       "      <td>7.972</td>\n",
       "      <td>3.659</td>\n",
       "      <td>38.0</td>\n",
       "      <td>2.0</td>\n",
       "    </tr>\n",
       "    <tr>\n",
       "      <th>1070</th>\n",
       "      <td>Zimbabwe</td>\n",
       "      <td>2019</td>\n",
       "      <td>15,354,608</td>\n",
       "      <td>4,945,719</td>\n",
       "      <td>10,408,889</td>\n",
       "      <td>40</td>\n",
       "      <td>61.0</td>\n",
       "      <td>31.518</td>\n",
       "      <td>8.043</td>\n",
       "      <td>3.599</td>\n",
       "      <td>37.1</td>\n",
       "      <td>2.0</td>\n",
       "    </tr>\n",
       "    <tr>\n",
       "      <th>1071</th>\n",
       "      <td>Zimbabwe</td>\n",
       "      <td>2020</td>\n",
       "      <td>15,669,666</td>\n",
       "      <td>5,052,214</td>\n",
       "      <td>10,617,452</td>\n",
       "      <td>41</td>\n",
       "      <td>61.0</td>\n",
       "      <td>31.009</td>\n",
       "      <td>8.132</td>\n",
       "      <td>3.545</td>\n",
       "      <td>36.6</td>\n",
       "      <td>2.0</td>\n",
       "    </tr>\n",
       "    <tr>\n",
       "      <th>1072</th>\n",
       "      <td>Zimbabwe</td>\n",
       "      <td>2021</td>\n",
       "      <td>15,993,524</td>\n",
       "      <td>5,166,388</td>\n",
       "      <td>10,827,136</td>\n",
       "      <td>-</td>\n",
       "      <td>59.0</td>\n",
       "      <td>30.537</td>\n",
       "      <td>9.057</td>\n",
       "      <td>3.491</td>\n",
       "      <td>35.7</td>\n",
       "      <td>2.0</td>\n",
       "    </tr>\n",
       "  </tbody>\n",
       "</table>\n",
       "<p>864 rows × 12 columns</p>\n",
       "</div>"
      ],
      "text/plain": [
       "          Country  Year Total Population Urban Population Rural Population  \\\n",
       "1     Afghanistan  2018       36,686,784        9,353,296       27,333,488   \n",
       "2     Afghanistan  2019       37,769,499        9,727,157       28,042,342   \n",
       "3     Afghanistan  2020       38,972,230       10,142,913       28,829,317   \n",
       "4     Afghanistan  2021       40,099,462       10,551,772       29,547,690   \n",
       "6         Albania  2018        2,866,376        1,728,969        1,137,407   \n",
       "...           ...   ...              ...              ...              ...   \n",
       "1067       Zambia  2021       19,473,125        8,800,295       10,672,830   \n",
       "1069     Zimbabwe  2018       15,052,184        4,848,158       10,204,026   \n",
       "1070     Zimbabwe  2019       15,354,608        4,945,719       10,408,889   \n",
       "1071     Zimbabwe  2020       15,669,666        5,052,214       10,617,452   \n",
       "1072     Zimbabwe  2021       15,993,524        5,166,388       10,827,136   \n",
       "\n",
       "     Population Density Life Expectancy  Birth Rate  Death Rate  \\\n",
       "1                    56            63.0      36.927       6.981   \n",
       "2                    58            64.0      36.466       6.791   \n",
       "3                    60            63.0      36.051       7.113   \n",
       "4                     -            62.0      35.842       7.344   \n",
       "6                   105            79.0      10.517       8.308   \n",
       "...                 ...             ...         ...         ...   \n",
       "1067                  -            61.0      34.511       6.973   \n",
       "1069                 39            61.0      32.074       7.972   \n",
       "1070                 40            61.0      31.518       8.043   \n",
       "1071                 41            61.0      31.009       8.132   \n",
       "1072                  -            59.0      30.537       9.057   \n",
       "\n",
       "     Fertility Rate Infant Mortality Rate Growth Rate  \n",
       "1             5.002                  47.8         3.0  \n",
       "2              4.87                  46.3         3.0  \n",
       "3              4.75                  44.8         3.0  \n",
       "4             4.643                  43.4         3.0  \n",
       "6              1.44                   8.3         0.0  \n",
       "...             ...                   ...         ...  \n",
       "1067          4.308                  40.2         3.0  \n",
       "1069          3.659                  38.0         2.0  \n",
       "1070          3.599                  37.1         2.0  \n",
       "1071          3.545                  36.6         2.0  \n",
       "1072          3.491                  35.7         2.0  \n",
       "\n",
       "[864 rows x 12 columns]"
      ]
     },
     "execution_count": 26,
     "metadata": {},
     "output_type": "execute_result"
    }
   ],
   "source": [
    "df1 = df[df['Total Population']!='-']\n",
    "df1"
   ]
  },
  {
   "cell_type": "markdown",
   "id": "8fe5f902-db22-4bb6-a40c-7335a624c89f",
   "metadata": {},
   "source": [
    "# 2.7.\tПолучите описательную статистику по переменным (например, max(), min(), describe())"
   ]
  },
  {
   "cell_type": "code",
   "execution_count": 13,
   "id": "77518ea0-c033-45ba-9808-45a8da77c1e4",
   "metadata": {},
   "outputs": [
    {
     "data": {
      "text/html": [
       "<div>\n",
       "<style scoped>\n",
       "    .dataframe tbody tr th:only-of-type {\n",
       "        vertical-align: middle;\n",
       "    }\n",
       "\n",
       "    .dataframe tbody tr th {\n",
       "        vertical-align: top;\n",
       "    }\n",
       "\n",
       "    .dataframe thead th {\n",
       "        text-align: right;\n",
       "    }\n",
       "</style>\n",
       "<table border=\"1\" class=\"dataframe\">\n",
       "  <thead>\n",
       "    <tr style=\"text-align: right;\">\n",
       "      <th></th>\n",
       "      <th>Year</th>\n",
       "      <th>Birth Rate</th>\n",
       "      <th>Death Rate</th>\n",
       "    </tr>\n",
       "  </thead>\n",
       "  <tbody>\n",
       "    <tr>\n",
       "      <th>count</th>\n",
       "      <td>864.000000</td>\n",
       "      <td>864.000000</td>\n",
       "      <td>864.000000</td>\n",
       "    </tr>\n",
       "    <tr>\n",
       "      <th>mean</th>\n",
       "      <td>2019.500000</td>\n",
       "      <td>18.548384</td>\n",
       "      <td>7.889123</td>\n",
       "    </tr>\n",
       "    <tr>\n",
       "      <th>std</th>\n",
       "      <td>1.118682</td>\n",
       "      <td>9.887518</td>\n",
       "      <td>3.041385</td>\n",
       "    </tr>\n",
       "    <tr>\n",
       "      <th>min</th>\n",
       "      <td>2018.000000</td>\n",
       "      <td>0.000000</td>\n",
       "      <td>0.000000</td>\n",
       "    </tr>\n",
       "    <tr>\n",
       "      <th>25%</th>\n",
       "      <td>2018.750000</td>\n",
       "      <td>10.500000</td>\n",
       "      <td>6.116500</td>\n",
       "    </tr>\n",
       "    <tr>\n",
       "      <th>50%</th>\n",
       "      <td>2019.500000</td>\n",
       "      <td>15.628500</td>\n",
       "      <td>7.453500</td>\n",
       "    </tr>\n",
       "    <tr>\n",
       "      <th>75%</th>\n",
       "      <td>2020.250000</td>\n",
       "      <td>25.565000</td>\n",
       "      <td>9.385000</td>\n",
       "    </tr>\n",
       "    <tr>\n",
       "      <th>max</th>\n",
       "      <td>2021.000000</td>\n",
       "      <td>46.127000</td>\n",
       "      <td>21.700000</td>\n",
       "    </tr>\n",
       "  </tbody>\n",
       "</table>\n",
       "</div>"
      ],
      "text/plain": [
       "              Year  Birth Rate  Death Rate\n",
       "count   864.000000  864.000000  864.000000\n",
       "mean   2019.500000   18.548384    7.889123\n",
       "std       1.118682    9.887518    3.041385\n",
       "min    2018.000000    0.000000    0.000000\n",
       "25%    2018.750000   10.500000    6.116500\n",
       "50%    2019.500000   15.628500    7.453500\n",
       "75%    2020.250000   25.565000    9.385000\n",
       "max    2021.000000   46.127000   21.700000"
      ]
     },
     "execution_count": 13,
     "metadata": {},
     "output_type": "execute_result"
    }
   ],
   "source": [
    "df1.describe()"
   ]
  },
  {
   "cell_type": "markdown",
   "id": "633439f6-86d0-43ff-938a-40d144b0e199",
   "metadata": {},
   "source": [
    "# 2.8.\tВыполните сортировку данных по нескольким критериям"
   ]
  },
  {
   "cell_type": "code",
   "execution_count": 27,
   "id": "0b84c9e6-1415-4a41-b4a3-bda4ffba9afb",
   "metadata": {},
   "outputs": [
    {
     "data": {
      "text/html": [
       "<div>\n",
       "<style scoped>\n",
       "    .dataframe tbody tr th:only-of-type {\n",
       "        vertical-align: middle;\n",
       "    }\n",
       "\n",
       "    .dataframe tbody tr th {\n",
       "        vertical-align: top;\n",
       "    }\n",
       "\n",
       "    .dataframe thead th {\n",
       "        text-align: right;\n",
       "    }\n",
       "</style>\n",
       "<table border=\"1\" class=\"dataframe\">\n",
       "  <thead>\n",
       "    <tr style=\"text-align: right;\">\n",
       "      <th></th>\n",
       "      <th>Country</th>\n",
       "      <th>Year</th>\n",
       "      <th>Total Population</th>\n",
       "      <th>Urban Population</th>\n",
       "      <th>Rural Population</th>\n",
       "      <th>Population Density</th>\n",
       "      <th>Life Expectancy</th>\n",
       "      <th>Birth Rate</th>\n",
       "      <th>Death Rate</th>\n",
       "      <th>Fertility Rate</th>\n",
       "      <th>Infant Mortality Rate</th>\n",
       "      <th>Growth Rate</th>\n",
       "    </tr>\n",
       "  </thead>\n",
       "  <tbody>\n",
       "    <tr>\n",
       "      <th>202</th>\n",
       "      <td>China</td>\n",
       "      <td>2018</td>\n",
       "      <td>1402760000</td>\n",
       "      <td>829,760,595</td>\n",
       "      <td>572,999,405</td>\n",
       "      <td>149</td>\n",
       "      <td>78.0</td>\n",
       "      <td>10.860</td>\n",
       "      <td>7.080</td>\n",
       "      <td>1.554</td>\n",
       "      <td>6.4</td>\n",
       "      <td>0.0</td>\n",
       "    </tr>\n",
       "    <tr>\n",
       "      <th>432</th>\n",
       "      <td>India</td>\n",
       "      <td>2018</td>\n",
       "      <td>1369003306</td>\n",
       "      <td>465,871,825</td>\n",
       "      <td>903,131,481</td>\n",
       "      <td>460</td>\n",
       "      <td>71.0</td>\n",
       "      <td>17.651</td>\n",
       "      <td>6.644</td>\n",
       "      <td>2.177</td>\n",
       "      <td>29.8</td>\n",
       "      <td>1.0</td>\n",
       "    </tr>\n",
       "    <tr>\n",
       "      <th>1019</th>\n",
       "      <td>United States</td>\n",
       "      <td>2018</td>\n",
       "      <td>326838199</td>\n",
       "      <td>268,844,029</td>\n",
       "      <td>57,994,170</td>\n",
       "      <td>36</td>\n",
       "      <td>79.0</td>\n",
       "      <td>11.600</td>\n",
       "      <td>8.678</td>\n",
       "      <td>1.73</td>\n",
       "      <td>5.6</td>\n",
       "      <td>1.0</td>\n",
       "    </tr>\n",
       "    <tr>\n",
       "      <th>437</th>\n",
       "      <td>Indonesia</td>\n",
       "      <td>2018</td>\n",
       "      <td>267066843</td>\n",
       "      <td>147,754,731</td>\n",
       "      <td>119,312,112</td>\n",
       "      <td>142</td>\n",
       "      <td>70.0</td>\n",
       "      <td>17.179</td>\n",
       "      <td>7.496</td>\n",
       "      <td>2.234</td>\n",
       "      <td>20.8</td>\n",
       "      <td>1.0</td>\n",
       "    </tr>\n",
       "    <tr>\n",
       "      <th>725</th>\n",
       "      <td>Pakistan</td>\n",
       "      <td>2018</td>\n",
       "      <td>219731479</td>\n",
       "      <td>80,566,744</td>\n",
       "      <td>139,164,735</td>\n",
       "      <td>285</td>\n",
       "      <td>66.0</td>\n",
       "      <td>28.594</td>\n",
       "      <td>6.843</td>\n",
       "      <td>3.685</td>\n",
       "      <td>57.4</td>\n",
       "      <td>2.0</td>\n",
       "    </tr>\n",
       "    <tr>\n",
       "      <th>...</th>\n",
       "      <td>...</td>\n",
       "      <td>...</td>\n",
       "      <td>...</td>\n",
       "      <td>...</td>\n",
       "      <td>...</td>\n",
       "      <td>...</td>\n",
       "      <td>...</td>\n",
       "      <td>...</td>\n",
       "      <td>...</td>\n",
       "      <td>...</td>\n",
       "      <td>...</td>\n",
       "      <td>...</td>\n",
       "    </tr>\n",
       "    <tr>\n",
       "      <th>907</th>\n",
       "      <td>St. Martin (French Part)</td>\n",
       "      <td>2021</td>\n",
       "      <td>31948</td>\n",
       "      <td>-</td>\n",
       "      <td>-</td>\n",
       "      <td>-</td>\n",
       "      <td>80.0</td>\n",
       "      <td>15.053</td>\n",
       "      <td>4.911</td>\n",
       "      <td>2.415</td>\n",
       "      <td>-</td>\n",
       "      <td>-2.0</td>\n",
       "    </tr>\n",
       "    <tr>\n",
       "      <th>137</th>\n",
       "      <td>British Virgin Islands</td>\n",
       "      <td>2021</td>\n",
       "      <td>31122</td>\n",
       "      <td>15,225</td>\n",
       "      <td>15,897</td>\n",
       "      <td>-</td>\n",
       "      <td>74.0</td>\n",
       "      <td>7.634</td>\n",
       "      <td>7.613</td>\n",
       "      <td>1.005</td>\n",
       "      <td>9.9</td>\n",
       "      <td>1.0</td>\n",
       "    </tr>\n",
       "    <tr>\n",
       "      <th>733</th>\n",
       "      <td>Palau</td>\n",
       "      <td>2021</td>\n",
       "      <td>18024</td>\n",
       "      <td>14,686</td>\n",
       "      <td>3,338</td>\n",
       "      <td>-</td>\n",
       "      <td>-</td>\n",
       "      <td>13.400</td>\n",
       "      <td>10.200</td>\n",
       "      <td>0.0</td>\n",
       "      <td>15.1</td>\n",
       "      <td>0.0</td>\n",
       "    </tr>\n",
       "    <tr>\n",
       "      <th>664</th>\n",
       "      <td>Nauru</td>\n",
       "      <td>2021</td>\n",
       "      <td>12511</td>\n",
       "      <td>12,511</td>\n",
       "      <td>-</td>\n",
       "      <td>-</td>\n",
       "      <td>64.0</td>\n",
       "      <td>27.560</td>\n",
       "      <td>6.633</td>\n",
       "      <td>3.519</td>\n",
       "      <td>23.2</td>\n",
       "      <td>2.0</td>\n",
       "    </tr>\n",
       "    <tr>\n",
       "      <th>997</th>\n",
       "      <td>Tuvalu</td>\n",
       "      <td>2021</td>\n",
       "      <td>11204</td>\n",
       "      <td>7,259</td>\n",
       "      <td>3,945</td>\n",
       "      <td>-</td>\n",
       "      <td>65.0</td>\n",
       "      <td>23.484</td>\n",
       "      <td>10.159</td>\n",
       "      <td>3.163</td>\n",
       "      <td>18.1</td>\n",
       "      <td>1.0</td>\n",
       "    </tr>\n",
       "  </tbody>\n",
       "</table>\n",
       "<p>864 rows × 12 columns</p>\n",
       "</div>"
      ],
      "text/plain": [
       "                       Country  Year Total Population Urban Population  \\\n",
       "202                      China  2018       1402760000      829,760,595   \n",
       "432                      India  2018       1369003306      465,871,825   \n",
       "1019             United States  2018        326838199      268,844,029   \n",
       "437                  Indonesia  2018        267066843      147,754,731   \n",
       "725                   Pakistan  2018        219731479       80,566,744   \n",
       "...                        ...   ...              ...              ...   \n",
       "907   St. Martin (French Part)  2021            31948                -   \n",
       "137     British Virgin Islands  2021            31122           15,225   \n",
       "733                      Palau  2021            18024           14,686   \n",
       "664                      Nauru  2021            12511           12,511   \n",
       "997                     Tuvalu  2021            11204            7,259   \n",
       "\n",
       "     Rural Population Population Density Life Expectancy  Birth Rate  \\\n",
       "202       572,999,405                149            78.0      10.860   \n",
       "432       903,131,481                460            71.0      17.651   \n",
       "1019       57,994,170                 36            79.0      11.600   \n",
       "437       119,312,112                142            70.0      17.179   \n",
       "725       139,164,735                285            66.0      28.594   \n",
       "...               ...                ...             ...         ...   \n",
       "907                 -                  -            80.0      15.053   \n",
       "137            15,897                  -            74.0       7.634   \n",
       "733             3,338                  -               -      13.400   \n",
       "664                 -                  -            64.0      27.560   \n",
       "997             3,945                  -            65.0      23.484   \n",
       "\n",
       "      Death Rate Fertility Rate Infant Mortality Rate Growth Rate  \n",
       "202        7.080          1.554                   6.4         0.0  \n",
       "432        6.644          2.177                  29.8         1.0  \n",
       "1019       8.678           1.73                   5.6         1.0  \n",
       "437        7.496          2.234                  20.8         1.0  \n",
       "725        6.843          3.685                  57.4         2.0  \n",
       "...          ...            ...                   ...         ...  \n",
       "907        4.911          2.415                     -        -2.0  \n",
       "137        7.613          1.005                   9.9         1.0  \n",
       "733       10.200            0.0                  15.1         0.0  \n",
       "664        6.633          3.519                  23.2         2.0  \n",
       "997       10.159          3.163                  18.1         1.0  \n",
       "\n",
       "[864 rows x 12 columns]"
      ]
     },
     "execution_count": 27,
     "metadata": {},
     "output_type": "execute_result"
    }
   ],
   "source": [
    "df1.loc[:, 'Total Population'] = df1['Total Population'].str.strip() \n",
    "df1.loc[:, 'Total Population'] = df1['Total Population'].str.replace(',', '') \n",
    "df1.loc[:, 'Total Population'] = pd.to_numeric(df1['Total Population'], errors='coerce')\n",
    "\n",
    "df_sorted = df1.sort_values(by=[\"Year\", \"Total Population\"], ascending=[True, False])\n",
    "df_sorted\n"
   ]
  },
  {
   "cell_type": "markdown",
   "id": "169dbb5d-6439-45a8-93fa-7ea60e8adad8",
   "metadata": {},
   "source": [
    "# 2.9.\t Выведите название страны, которая имеет максимальную численность населения"
   ]
  },
  {
   "cell_type": "code",
   "execution_count": 28,
   "id": "510b09b3-2122-4725-b598-9e0491972c9b",
   "metadata": {},
   "outputs": [
    {
     "name": "stdout",
     "output_type": "stream",
     "text": [
      "Answer is China in 2021 with 1412360000 people\n"
     ]
    }
   ],
   "source": [
    "df_sorted_byP = df1.sort_values(by=\"Total Population\", ascending=True)\n",
    "country_max = df_sorted_byP.iloc[-1][\"Country\"]\n",
    "country_year = df_sorted_byP.iloc[-1][\"Year\"]\n",
    "country_p = df_sorted_byP.iloc[-1][\"Total Population\"]\n",
    "print(f'Answer is {country_max} in {country_year} with {country_p} people')"
   ]
  },
  {
   "cell_type": "markdown",
   "id": "a8cf9aa8-26ad-4c99-8281-6967fb6a6972",
   "metadata": {},
   "source": [
    "# 2.10.\tВыведите название страны, которая имеет минимальную численность населения"
   ]
  },
  {
   "cell_type": "code",
   "execution_count": 29,
   "id": "f386ec62-0af6-4150-b37d-b8c2071b9e91",
   "metadata": {},
   "outputs": [
    {
     "name": "stdout",
     "output_type": "stream",
     "text": [
      "Answer is Tuvalu in 2018 with 10865 people\n"
     ]
    }
   ],
   "source": [
    "country_min = df_sorted_byP.iloc[0][\"Country\"]\n",
    "country_year_min = df_sorted_byP.iloc[0][\"Year\"]\n",
    "country_m = df_sorted_byP.iloc[0][\"Total Population\"]\n",
    "print(f'Answer is {country_min} in {country_year_min} with {country_m} people')"
   ]
  },
  {
   "cell_type": "markdown",
   "id": "dbf9cf72-5a9e-4997-b78d-1b66173475c1",
   "metadata": {},
   "source": [
    "# 2.11.\tЭкспорт фрейма в MS Excel"
   ]
  },
  {
   "cell_type": "code",
   "execution_count": 18,
   "id": "ef3fd65b-1c10-4248-8a28-9d068a63a465",
   "metadata": {},
   "outputs": [],
   "source": [
    "df1.to_excel(\"date_frame.xlsx\", index=False, engine='openpyxl')\n"
   ]
  },
  {
   "cell_type": "code",
   "execution_count": null,
   "id": "7d7c0795-fe1b-4fdf-baa5-83524620e73f",
   "metadata": {},
   "outputs": [],
   "source": []
  }
 ],
 "metadata": {
  "kernelspec": {
   "display_name": "Python 3 (ipykernel)",
   "language": "python",
   "name": "python3"
  },
  "language_info": {
   "codemirror_mode": {
    "name": "ipython",
    "version": 3
   },
   "file_extension": ".py",
   "mimetype": "text/x-python",
   "name": "python",
   "nbconvert_exporter": "python",
   "pygments_lexer": "ipython3",
   "version": "3.11.5"
  }
 },
 "nbformat": 4,
 "nbformat_minor": 5
}
